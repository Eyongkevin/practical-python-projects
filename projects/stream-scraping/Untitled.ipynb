{
 "cells": [
  {
   "cell_type": "code",
   "execution_count": 1,
   "metadata": {},
   "outputs": [],
   "source": [
    "import requests\n",
    "import lxml.html"
   ]
  },
  {
   "cell_type": "code",
   "execution_count": 2,
   "metadata": {},
   "outputs": [],
   "source": [
    "html = requests.get('https://store.steampowered.com/explore/new/')\n",
    "doc = lxml.html.fromstring(html.content)"
   ]
  },
  {
   "cell_type": "code",
   "execution_count": 8,
   "metadata": {},
   "outputs": [],
   "source": [
    "new_releases = doc.xpath('//div[@id=\"tab_newreleases_content\"]')[0]"
   ]
  },
  {
   "cell_type": "code",
   "execution_count": 17,
   "metadata": {},
   "outputs": [
    {
     "data": {
      "text/plain": [
       "36"
      ]
     },
     "execution_count": 17,
     "metadata": {},
     "output_type": "execute_result"
    }
   ],
   "source": [
    "tab_titles = new_releases.xpath('.//div[@class=\"tab_item_name\"]/text()')\n",
    "len(tab_titles)"
   ]
  },
  {
   "cell_type": "code",
   "execution_count": 18,
   "metadata": {},
   "outputs": [],
   "source": [
    "prices = new_releases.xpath('.//div[@class=\"discount_final_price\"]/text()')"
   ]
  },
  {
   "cell_type": "code",
   "execution_count": 36,
   "metadata": {},
   "outputs": [
    {
     "data": {
      "text/plain": [
       "[['Platformer', ' Pixel Graphics', ' Action Roguelike', ' Roguelike'],\n",
       " ['Adventure', ' Puzzle', ' Exploration', ' Point & Click'],\n",
       " ['Farming Sim', ' RPG', ' Crafting', ' Base Building'],\n",
       " ['Action', ' 2D Fighter', ' Story Rich', ' Anime'],\n",
       " ['Sports', ' Snowboarding', ' Multiplayer', ' Character Customization'],\n",
       " ['Exploration', ' RPG', ' Souls-like', ' Puzzle'],\n",
       " ['Dog', ' Sandbox', ' Cute', ' Life Sim'],\n",
       " ['Exploration', ' Surreal', ' First-Person', ' Adventure'],\n",
       " ['Simulation', ' Sports', ' PvP', ' Local Co-Op'],\n",
       " ['City Builder', ' Building', ' Management', ' Sandbox'],\n",
       " ['Simulation', ' Strategy', ' 4X', ' Grand Strategy'],\n",
       " ['Action', ' Multiplayer', ' Casual', ' Funny'],\n",
       " ['Adventure', ' Action RPG', ' Action-Adventure', ' Sandbox'],\n",
       " ['Strategy', ' Card Game', ' Puzzle', ' Turn-Based Strategy'],\n",
       " ['Simulation', ' Strategy', ' Indie', ' City Builder'],\n",
       " ['Free to Play', ' Singleplayer', ' Action', ' Casual'],\n",
       " ['Local Co-Op', ' Strategy', ' Auto Battler', ' Turn-Based Strategy'],\n",
       " ['Sandbox', ' America', ' Shooter', ' Multiplayer'],\n",
       " ['Action', ' Indie', ' Great Soundtrack', ' Action Roguelike'],\n",
       " ['Souls-like', ' Relaxing', ' Dark Fantasy', ' RPG'],\n",
       " ['RPG', ' Singleplayer', ' 2D', ' Adventure'],\n",
       " ['Action', ' Adventure', ' Free to Play', ' FPS'],\n",
       " ['Action', ' Adventure', ' Free to Play', ' Looter Shooter'],\n",
       " ['Action', ' Adventure', ' Free to Play', ' Multiplayer'],\n",
       " ['Action', ' 2D Fighter', ' PvP', ' Fighting'],\n",
       " ['Action', ' 2D Fighter', ' PvP', ' Fighting'],\n",
       " ['Casual', ' 3D', ' Colorful', ' Action'],\n",
       " ['Social Deduction', ' FPS', ' Multiplayer', ' PvP'],\n",
       " ['Open World', ' Zombies', ' Co-op', ' Parkour'],\n",
       " ['Open World', ' Zombies', ' Co-op', ' Parkour'],\n",
       " ['Strategy', ' Tower Defense', ' Casual', ' Roguelike'],\n",
       " ['Multiplayer', ' Survival', ' Social Deduction', ' Online Co-Op'],\n",
       " ['Action', ' Adventure', ' Shooter', ' First-Person'],\n",
       " ['Psychological Horror', ' Visual Novel', ' Anime', ' Cute'],\n",
       " ['RPG', ' Strategy', ' Party-Based RPG', ' Turn-Based Strategy'],\n",
       " ['Psychological Horror', ' Card Game', ' Free to Play', ' Strategy']]"
      ]
     },
     "execution_count": 36,
     "metadata": {},
     "output_type": "execute_result"
    }
   ],
   "source": [
    "tags = [tag.text_content() for tag in new_releases.xpath('.//div[@class=\"tab_item_top_tags\"]')]\n",
    "tags = [tag.split(',') for tag in tags]\n",
    "tags"
   ]
  },
  {
   "cell_type": "code",
   "execution_count": 33,
   "metadata": {},
   "outputs": [],
   "source": [
    "all_platforms = []\n",
    "platforms = new_releases.xpath('.//div[@class=\"tab_item_details\"]')\n",
    "\n",
    "for game in platforms:\n",
    "    temp = game.xpath('.//span[contains(@class, \"platform_img\")]')\n",
    "    platform = [t.get('class').split(' ')[-1] for t in temp]\n",
    "    all_platforms.append(platform)"
   ]
  },
  {
   "cell_type": "code",
   "execution_count": 34,
   "metadata": {},
   "outputs": [
    {
     "data": {
      "text/plain": [
       "[['win'],\n",
       " ['win'],\n",
       " ['win'],\n",
       " ['win'],\n",
       " ['win'],\n",
       " ['win', 'mac'],\n",
       " ['win', 'mac'],\n",
       " ['win', 'linux'],\n",
       " ['win'],\n",
       " ['win'],\n",
       " ['win'],\n",
       " ['win', 'mac', 'linux'],\n",
       " ['win'],\n",
       " ['win'],\n",
       " ['win', 'mac'],\n",
       " ['win', 'linux'],\n",
       " ['win'],\n",
       " ['win'],\n",
       " ['win'],\n",
       " ['win'],\n",
       " ['win'],\n",
       " ['win'],\n",
       " ['win'],\n",
       " ['win'],\n",
       " ['win'],\n",
       " ['win'],\n",
       " ['win', 'mac', 'linux'],\n",
       " ['win'],\n",
       " ['win'],\n",
       " ['win'],\n",
       " ['win'],\n",
       " ['win'],\n",
       " ['win'],\n",
       " ['win', 'mac'],\n",
       " ['win'],\n",
       " ['win']]"
      ]
     },
     "execution_count": 34,
     "metadata": {},
     "output_type": "execute_result"
    }
   ],
   "source": [
    "all_platforms"
   ]
  },
  {
   "cell_type": "code",
   "execution_count": 37,
   "metadata": {},
   "outputs": [
    {
     "data": {
      "text/plain": [
       "[{'title': 'Orbital Bullet – The 360° Rogue-lite',\n",
       "  'price': '$11.04',\n",
       "  'tags': ['Platformer', ' Pixel Graphics', ' Action Roguelike', ' Roguelike'],\n",
       "  'platforms': ['win']},\n",
       " {'title': 'Syberia: The World Before',\n",
       "  'price': '$39.99',\n",
       "  'tags': ['Adventure', ' Puzzle', ' Exploration', ' Point & Click'],\n",
       "  'platforms': ['win']},\n",
       " {'title': 'No Place Like Home',\n",
       "  'price': '$17.99',\n",
       "  'tags': ['Farming Sim', ' RPG', ' Crafting', ' Base Building'],\n",
       "  'platforms': ['win']},\n",
       " {'title': 'Persona 4 Arena Ultimax',\n",
       "  'price': '$29.99',\n",
       "  'tags': ['Action', ' 2D Fighter', ' Story Rich', ' Anime'],\n",
       "  'platforms': ['win']},\n",
       " {'title': 'Shredders',\n",
       "  'price': '$29.99',\n",
       "  'tags': ['Sports',\n",
       "   ' Snowboarding',\n",
       "   ' Multiplayer',\n",
       "   ' Character Customization'],\n",
       "  'platforms': ['win']},\n",
       " {'title': 'TUNIC',\n",
       "  'price': '$29.99',\n",
       "  'tags': ['Exploration', ' RPG', ' Souls-like', ' Puzzle'],\n",
       "  'platforms': ['win', 'mac']},\n",
       " {'title': 'Wobbledogs',\n",
       "  'price': '$19.99',\n",
       "  'tags': ['Dog', ' Sandbox', ' Cute', ' Life Sim'],\n",
       "  'platforms': ['win', 'mac']},\n",
       " {'title': 'Hyperbolica',\n",
       "  'price': '$16.99',\n",
       "  'tags': ['Exploration', ' Surreal', ' First-Person', ' Adventure'],\n",
       "  'platforms': ['win', 'linux']},\n",
       " {'title': 'WWE 2K22',\n",
       "  'price': '$59.99',\n",
       "  'tags': ['Simulation', ' Sports', ' PvP', ' Local Co-Op'],\n",
       "  'platforms': ['win']},\n",
       " {'title': 'Urbek City Builder: Prologue',\n",
       "  'price': 'Free To Play',\n",
       "  'tags': ['City Builder', ' Building', ' Management', ' Sandbox'],\n",
       "  'platforms': ['win']},\n",
       " {'title': 'Distant Worlds 2',\n",
       "  'price': '$49.99',\n",
       "  'tags': ['Simulation', ' Strategy', ' 4X', ' Grand Strategy'],\n",
       "  'platforms': ['win']},\n",
       " {'title': 'Cube Racer 2',\n",
       "  'price': 'Free To Play',\n",
       "  'tags': ['Action', ' Multiplayer', ' Casual', ' Funny'],\n",
       "  'platforms': ['win', 'mac', 'linux']},\n",
       " {'title': 'American Theft 80s: Prologue',\n",
       "  'price': 'Free',\n",
       "  'tags': ['Adventure', ' Action RPG', ' Action-Adventure', ' Sandbox'],\n",
       "  'platforms': ['win']},\n",
       " {'title': 'Phobies',\n",
       "  'price': 'Free To Play',\n",
       "  'tags': ['Strategy', ' Card Game', ' Puzzle', ' Turn-Based Strategy'],\n",
       "  'platforms': ['win']},\n",
       " {'title': 'Airborne Kingdom',\n",
       "  'price': '$24.99',\n",
       "  'tags': ['Simulation', ' Strategy', ' Indie', ' City Builder'],\n",
       "  'platforms': ['win', 'mac']},\n",
       " {'title': 'Aperture Desk Job',\n",
       "  'price': 'Free',\n",
       "  'tags': ['Free to Play', ' Singleplayer', ' Action', ' Casual'],\n",
       "  'platforms': ['win', 'linux']},\n",
       " {'title': \"Hero's Hour\",\n",
       "  'price': '$17.99',\n",
       "  'tags': ['Local Co-Op',\n",
       "   ' Strategy',\n",
       "   ' Auto Battler',\n",
       "   ' Turn-Based Strategy'],\n",
       "  'platforms': ['win']},\n",
       " {'title': 'Battle Cry of Freedom',\n",
       "  'price': '$19.99',\n",
       "  'tags': ['Sandbox', ' America', ' Shooter', ' Multiplayer'],\n",
       "  'platforms': ['win']},\n",
       " {'title': 'Risk of Rain 2: Survivors of the Void',\n",
       "  'price': '$14.99',\n",
       "  'tags': ['Action', ' Indie', ' Great Soundtrack', ' Action Roguelike'],\n",
       "  'platforms': ['win']},\n",
       " {'title': 'ELDEN RING',\n",
       "  'price': '$59.99',\n",
       "  'tags': ['Souls-like', ' Relaxing', ' Dark Fantasy', ' RPG'],\n",
       "  'platforms': ['win']},\n",
       " {'title': 'FINAL FANTASY VI',\n",
       "  'price': '$17.99',\n",
       "  'tags': ['RPG', ' Singleplayer', ' 2D', ' Adventure'],\n",
       "  'platforms': ['win']},\n",
       " {'title': 'Destiny 2: The Witch Queen Deluxe + Bungie 30th Anniversary Bundle',\n",
       "  'price': '$99.99',\n",
       "  'tags': ['Action', ' Adventure', ' Free to Play', ' FPS'],\n",
       "  'platforms': ['win']},\n",
       " {'title': 'Destiny 2: The Witch Queen',\n",
       "  'price': '$39.99',\n",
       "  'tags': ['Action', ' Adventure', ' Free to Play', ' Looter Shooter'],\n",
       "  'platforms': ['win']},\n",
       " {'title': 'Destiny 2: The Witch Queen Deluxe Edition',\n",
       "  'price': '$79.99',\n",
       "  'tags': ['Action', ' Adventure', ' Free to Play', ' Multiplayer'],\n",
       "  'platforms': ['win']},\n",
       " {'title': 'THE KING OF FIGHTERS XV',\n",
       "  'price': '$59.99',\n",
       "  'tags': ['Action', ' 2D Fighter', ' PvP', ' Fighting'],\n",
       "  'platforms': ['win']},\n",
       " {'title': 'THE KING OF FIGHTERS XV',\n",
       "  'price': '$59.99',\n",
       "  'tags': ['Action', ' 2D Fighter', ' PvP', ' Fighting'],\n",
       "  'platforms': ['win']},\n",
       " {'title': 'Mushy',\n",
       "  'price': 'Free To Play',\n",
       "  'tags': ['Casual', ' 3D', ' Colorful', ' Action'],\n",
       "  'platforms': ['win', 'mac', 'linux']},\n",
       " {'title': 'Deduction',\n",
       "  'price': 'Free',\n",
       "  'tags': ['Social Deduction', ' FPS', ' Multiplayer', ' PvP'],\n",
       "  'platforms': ['win']},\n",
       " {'title': 'Dying Light 2 Stay Human',\n",
       "  'price': '$59.99',\n",
       "  'tags': ['Open World', ' Zombies', ' Co-op', ' Parkour'],\n",
       "  'platforms': ['win']},\n",
       " {'title': 'Dying Light 2 Stay Human',\n",
       "  'price': '$59.99',\n",
       "  'tags': ['Open World', ' Zombies', ' Co-op', ' Parkour'],\n",
       "  'platforms': ['win']},\n",
       " {'title': 'Rogue Tower',\n",
       "  'price': '$14.99',\n",
       "  'tags': ['Strategy', ' Tower Defense', ' Casual', ' Roguelike'],\n",
       "  'platforms': ['win']},\n",
       " {'title': 'Dread Hunger',\n",
       "  'price': '$29.99',\n",
       "  'tags': ['Multiplayer', ' Survival', ' Social Deduction', ' Online Co-Op'],\n",
       "  'platforms': ['win']},\n",
       " {'title': 'Serious Sam: Siberian Mayhem',\n",
       "  'price': '$19.99',\n",
       "  'tags': ['Action', ' Adventure', ' Shooter', ' First-Person'],\n",
       "  'platforms': ['win']},\n",
       " {'title': 'NEEDY STREAMER OVERLOAD',\n",
       "  'price': '$15.99',\n",
       "  'tags': ['Psychological Horror', ' Visual Novel', ' Anime', ' Cute'],\n",
       "  'platforms': ['win', 'mac']},\n",
       " {'title': 'Expeditions: Rome',\n",
       "  'price': '$44.99',\n",
       "  'tags': ['RPG', ' Strategy', ' Party-Based RPG', ' Turn-Based Strategy'],\n",
       "  'platforms': ['win']},\n",
       " {'title': 'Yu-Gi-Oh! Master Duel',\n",
       "  'price': 'Free To Play',\n",
       "  'tags': ['Psychological Horror', ' Card Game', ' Free to Play', ' Strategy'],\n",
       "  'platforms': ['win']}]"
      ]
     },
     "execution_count": 37,
     "metadata": {},
     "output_type": "execute_result"
    }
   ],
   "source": [
    "output = []\n",
    "for info in zip(tab_titles, prices, tags,  all_platforms):\n",
    "    res = {}\n",
    "    res['title'] = info[0]\n",
    "    res['price'] = info[1]\n",
    "    res['tags'] = info[2]\n",
    "    res['platforms'] = info[3]\n",
    "    output.append(res)\n",
    "    \n",
    "output"
   ]
  },
  {
   "cell_type": "code",
   "execution_count": null,
   "metadata": {},
   "outputs": [],
   "source": []
  }
 ],
 "metadata": {
  "kernelspec": {
   "display_name": "Python 3",
   "language": "python",
   "name": "python3"
  },
  "language_info": {
   "codemirror_mode": {
    "name": "ipython",
    "version": 3
   },
   "file_extension": ".py",
   "mimetype": "text/x-python",
   "name": "python",
   "nbconvert_exporter": "python",
   "pygments_lexer": "ipython3",
   "version": "3.7.6"
  }
 },
 "nbformat": 4,
 "nbformat_minor": 4
}
